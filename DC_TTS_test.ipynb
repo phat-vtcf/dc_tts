{
  "nbformat": 4,
  "nbformat_minor": 0,
  "metadata": {
    "colab": {
      "name": "DC_TTS_test.ipynb",
      "provenance": [],
      "collapsed_sections": []
    },
    "kernelspec": {
      "name": "python3",
      "display_name": "Python 3"
    },
    "language_info": {
      "name": "python"
    },
    "accelerator": "GPU"
  },
  "cells": [
    {
      "cell_type": "markdown",
      "metadata": {
        "id": "H7nbaFrOfZtJ"
      },
      "source": [
        "# DC_TTS - a test on the pre-trained model which is based on the LJ speech dataset"
      ]
    },
    {
      "cell_type": "markdown",
      "metadata": {
        "id": "9rYinl7keOQx"
      },
      "source": [
        "**!!** **Remember to activate Hardware acceleration** **!!**\n",
        "Edit → Notebook Settings → select GPU from the hardware accelerator menu\n",
        "\n",
        "This notebook allows you to synthesize English sentences with a pre-trained model based on the LJ speech dataset.\n",
        "After doing some preliminary steps, you will be able to choose your own sentences that should be synthesized or stick with the sentences pre-defined in the [harvard_sentences](http://www.cs.columbia.edu/~hgs/audio/harvard.html).txt. At the end you will be able to use a simple audio widget to play the synthesized files."
      ]
    },
    {
      "cell_type": "code",
      "metadata": {
        "id": "jQunD3-twV2A",
        "colab": {
          "base_uri": "https://localhost:8080/"
        },
        "outputId": "0035607e-3335-428a-e0a8-2535bc1298aa"
      },
      "source": [
        "# clone the repository\n",
        "!git clone https://github.com/jkuhlemann/dc_tts.git"
      ],
      "execution_count": null,
      "outputs": [
        {
          "output_type": "stream",
          "name": "stdout",
          "text": [
            "Cloning into 'dc_tts'...\n",
            "remote: Enumerating objects: 238, done.\u001b[K\n",
            "remote: Counting objects: 100% (70/70), done.\u001b[K\n",
            "remote: Compressing objects: 100% (64/64), done.\u001b[K\n",
            "remote: Total 238 (delta 42), reused 15 (delta 6), pack-reused 168\u001b[K\n",
            "Receiving objects: 100% (238/238), 3.15 MiB | 14.10 MiB/s, done.\n",
            "Resolving deltas: 100% (137/137), done.\n"
          ]
        }
      ]
    },
    {
      "cell_type": "code",
      "metadata": {
        "id": "ZNFKOgHQOtGL"
      },
      "source": [
        "# create folders necessary for everything to work\n",
        "!mkdir /content/dc_tts/samples\n",
        "!mkdir /content/dc_tts/logdir\n",
        "!mkdir /data/\n",
        "!mkdir /data/private/\n",
        "!mkdir /data/private/voice/"
      ],
      "execution_count": null,
      "outputs": []
    },
    {
      "cell_type": "code",
      "metadata": {
        "id": "RhQIjHVdvm6U"
      },
      "source": [
        "# before going further, we have to change some lines in\n",
        "# hyperparams.py, so that it loads the right directories\n",
        "import fileinput\n",
        "import sys\n",
        "\n",
        "def replacement(file, previousw, nextw):\n",
        "   for line in fileinput.input(file, inplace=1):\n",
        "       line = line.replace(previousw, nextw)\n",
        "       sys.stdout.write(line)\n",
        "\n",
        "file = \"/content/dc_tts/hyperparams.py\"\n",
        "\n",
        "orig_1 = \"test_data = 'harvard_sentences.txt'\"\n",
        "repl_1 = \"test_data = '/content/dc_tts/harvard_sentences.txt'\"\n",
        "\n",
        "orig_2 = 'logdir = \"logdir/LJ01\"'\n",
        "repl_2 = 'logdir = \"/content/dc_tts/logdir/LJ01\"'\n",
        "\n",
        "orig_3 = \"sampledir = 'samples'\"\n",
        "repl_3 = \"sampledir = '/content/dc_tts/samples'\"\n",
        "\n",
        "replacement(file, orig_1, repl_1)\n",
        "replacement(file, orig_2, repl_2)\n",
        "replacement(file, orig_3, repl_3)"
      ],
      "execution_count": null,
      "outputs": []
    },
    {
      "cell_type": "code",
      "metadata": {
        "id": "vJ1Cec8Qo3wQ"
      },
      "source": [
        "# create a txt in case user wants to choose own sentences\n",
        "f = open(\"/content/dc_tts/own_sentences.txt\", 'w')"
      ],
      "execution_count": null,
      "outputs": []
    },
    {
      "cell_type": "code",
      "metadata": {
        "id": "Cgqxu11lx8yk"
      },
      "source": [
        "# download pre-trained model\n",
        "import urllib.request\n",
        "\n",
        "url = \"https://www.dropbox.com/s/1oyipstjxh2n5wo/LJ_logdir.tar?dl=1\"  \n",
        "u = urllib.request.urlopen(url)\n",
        "data = u.read()\n",
        "u.close()\n",
        "with open('/content/dc_tts/LJ_logdir.tar', \"wb\") as f :\n",
        "    f.write(data)"
      ],
      "execution_count": null,
      "outputs": []
    },
    {
      "cell_type": "code",
      "metadata": {
        "id": "j1pHd1Ww--3Y"
      },
      "source": [
        "# extract the pre-trained model\n",
        "import zipfile\n",
        "with zipfile.ZipFile('/content/dc_tts/LJ_logdir.tar', 'r') as zip_ref:\n",
        "    zip_ref.extractall('/content/dc_tts/')"
      ],
      "execution_count": null,
      "outputs": []
    },
    {
      "cell_type": "code",
      "metadata": {
        "id": "qlfyO1BsgqbR"
      },
      "source": [
        "# move the pre-trained model data to logdir folder\n",
        "!mv /content/dc_tts/LJ01-1 /content/dc_tts/logdir\n",
        "!mv /content/dc_tts/LJ01-2 /content/dc_tts/logdir"
      ],
      "execution_count": null,
      "outputs": []
    },
    {
      "cell_type": "code",
      "metadata": {
        "id": "1Lt45CVjapZi"
      },
      "source": [
        "# function to use own sentences for TTS\n",
        "# with this, you can add as many sentences as you wish for the synthesis\n",
        "def sentences_to_synthesize():\n",
        "  x = input(\"Do you want to use the example sentences or synthesize your own sentences? Please choose(example/own): \")\n",
        "  if x == \"example\":\n",
        "    orig_1 = \"test_data = 'harvard_sentences.txt'\"\n",
        "    repl_1 = \"test_data = '/content/dc_tts/harvard_sentences.txt'\"\n",
        "    replacement(file, orig_1, repl_1)\n",
        "    print(\"Good. Just go to the next cell then.\")  \n",
        "    pass\n",
        "  elif x == \"own\":\n",
        "    orig_1 = \"test_data = '/content/dc_tts/harvard_sentences.txt'\"\n",
        "    repl_1 = \"test_data = '/content/dc_tts/own_sentences.txt'\"\n",
        "    replacement(file, orig_1, repl_1)\n",
        "    n = 1\n",
        "    with open('/content/dc_tts/own_sentences.txt', 'w') as f:\n",
        "      f.write('The code ignores the first line in the .txt. This is just a line so that everything works \\n')\n",
        "\n",
        "    own_sentence = input(\"Alright. Please write your sentence here: \")\n",
        "    own_sentence = f\"{n}. {own_sentence} \\n\"\n",
        "    \n",
        "    with open('/content/dc_tts/own_sentences.txt', 'a') as f:\n",
        "      f.write(own_sentence)\n",
        "  while True:\n",
        "    more = input(\"Would you like to add another sentence? (y/n): \")\n",
        "    if more == 'y':\n",
        "      n = n + 1 \n",
        "      own_sentence = input(\"Write your sentence here: \")\n",
        "      own_sentence = f\"{n}. {own_sentence} \\n\"\n",
        "      with open('/content/dc_tts/own_sentences.txt', 'a') as f:\n",
        "        f.write(own_sentence)\n",
        "    elif more == 'n':\n",
        "      return\n",
        "\n",
        "  return\n",
        "  \n",
        "sentences_to_synthesize()"
      ],
      "execution_count": null,
      "outputs": []
    },
    {
      "cell_type": "code",
      "metadata": {
        "id": "ahRuD0QeLg0X",
        "colab": {
          "base_uri": "https://localhost:8080/"
        },
        "outputId": "2b543999-0a37-4d6b-a01e-cdb548f4f233"
      },
      "source": [
        "# we have to manually switch to Tensorflow version 1.x since this is what the repo uses\n",
        "%tensorflow_version 1.x"
      ],
      "execution_count": null,
      "outputs": [
        {
          "output_type": "stream",
          "name": "stdout",
          "text": [
            "TensorFlow 1.x selected.\n"
          ]
        }
      ]
    },
    {
      "cell_type": "code",
      "metadata": {
        "id": "CmLvPecsI3BS"
      },
      "source": [
        "# synthesize the sentences specified in 'harvard_sentences.txt.' (Your own or pre-defined)\n",
        "# you will find the resulting .wav files in /content/dc_tts/samples \n",
        "# or use the widget implementation below to play the audio\n",
        "!python /content/dc_tts/synthesize.py"
      ],
      "execution_count": null,
      "outputs": []
    },
    {
      "cell_type": "code",
      "metadata": {
        "id": "W_4y-I5ykCZx"
      },
      "source": [
        "from IPython.display import Audio, display\n",
        "# function to play desired audiofile\n",
        "# choose the desired file for playback (ascending numbers from 1)\n",
        "def play_audio():\n",
        "  numb = input(\"Which audiofile would you like to listen to? (Choose number): \")\n",
        "  filepath = f\"/content/dc_tts/samples/{numb}.wav\"\n",
        "  return Audio(filepath)\n",
        "\n",
        "play_audio()"
      ],
      "execution_count": null,
      "outputs": []
    },
    {
      "cell_type": "markdown",
      "metadata": {
        "id": "SpWel_J0nPQs"
      },
      "source": [
        "That's it! We hope you enjoyed testing the TTS model!"
      ]
    }
  ]
}