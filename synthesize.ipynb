{
  "nbformat": 4,
  "nbformat_minor": 0,
  "metadata": {
    "colab": {
      "name": "synthesize.py",
      "provenance": [],
      "collapsed_sections": []
    },
    "kernelspec": {
      "display_name": "Python 3",
      "name": "python3"
    },
    "language_info": {
      "name": "python"
    }
  },
  "cells": [
    {
      "cell_type": "code",
      "metadata": {
        "colab": {
          "base_uri": "https://localhost:8080/"
        },
        "id": "uaot3u6uopyr",
        "outputId": "97bacbe5-6dc8-49ca-e3fc-16c5b48eb1f3"
      },
      "source": [
        "!git clone https://github.com/l-willis/dc_tts"
      ],
      "execution_count": 1,
      "outputs": [
        {
          "output_type": "stream",
          "name": "stdout",
          "text": [
            "fatal: destination path 'dc_tts' already exists and is not an empty directory.\n"
          ]
        }
      ]
    },
    {
      "cell_type": "code",
      "metadata": {
        "colab": {
          "base_uri": "https://localhost:8080/"
        },
        "id": "2Y-pSdkDxmdk",
        "outputId": "4cbee2a9-a054-4b47-e5ef-8b106f332ba2"
      },
      "source": [
        "%tensorflow_version 1.x\n",
        "import tensorflow as tf\n",
        "print(tf.__version__)"
      ],
      "execution_count": 2,
      "outputs": [
        {
          "output_type": "stream",
          "name": "stdout",
          "text": [
            "TensorFlow 1.x selected.\n",
            "1.15.2\n"
          ]
        }
      ]
    },
    {
      "cell_type": "code",
      "metadata": {
        "colab": {
          "base_uri": "https://localhost:8080/"
        },
        "id": "5tKGgwK2p5hg",
        "outputId": "a9789812-66b6-4696-e894-0026e62070bb"
      },
      "source": [
        "cd dc_tts"
      ],
      "execution_count": 3,
      "outputs": [
        {
          "output_type": "stream",
          "name": "stdout",
          "text": [
            "/content/dc_tts\n"
          ]
        }
      ]
    },
    {
      "cell_type": "code",
      "metadata": {
        "colab": {
          "base_uri": "https://localhost:8080/"
        },
        "id": "iK92wC9hm5lc",
        "outputId": "7df49bcd-57e6-4cf7-9781-47033407539d"
      },
      "source": [
        "# -*- coding: utf-8 -*-\n",
        "# /usr/bin/python2\n",
        "'''\n",
        "By kyubyong park. kbpark.linguist@gmail.com.\n",
        "https://www.github.com/kyubyong/dc_tts\n",
        "'''\n",
        "\n",
        "from __future__ import print_function\n",
        "import os\n",
        "from hyperparams import Hyperparams as hp\n",
        "import numpy as np\n",
        "from train import Graph\n",
        "from utils import *\n",
        "from data_load import load_data\n",
        "from scipy.io.wavfile import write\n",
        "from tqdm import tqdm\n",
        "\n",
        "def synthesize():\n",
        "    # Load data\n",
        "    L = load_data(\"synthesize\")\n",
        "\n",
        "    # Load graph\n",
        "    g = Graph(mode=\"synthesize\"); print(\"Graph loaded\")\n",
        "\n",
        "    with tf.Session() as sess:\n",
        "        sess.run(tf.global_variables_initializer())\n",
        "\n",
        "        # Restore parameters\n",
        "        var_list = tf.get_collection(tf.GraphKeys.TRAINABLE_VARIABLES, 'Text2Mel')\n",
        "        saver1 = tf.train.Saver(var_list=var_list)\n",
        "        saver1.restore(sess, tf.train.latest_checkpoint(\"/content/drive/Shareddrives/Programming7/logdir/LJ01-1\"))\n",
        "        print(\"Text2Mel Restored!\")\n",
        "\n",
        "        var_list = tf.get_collection(tf.GraphKeys.TRAINABLE_VARIABLES, 'SSRN') + \\\n",
        "                   tf.get_collection(tf.GraphKeys.GLOBAL_VARIABLES, 'gs')\n",
        "        saver2 = tf.train.Saver(var_list=var_list)\n",
        "        saver2.restore(sess, tf.train.latest_checkpoint(\"/content/drive/Shareddrives/Programming7/logdir/LJ01-2\"))\n",
        "        print(\"SSRN Restored!\")\n",
        "\n",
        "        # Feed Forward\n",
        "        ## mel\n",
        "        Y = np.zeros((len(L), hp.max_T, hp.n_mels), np.float32)\n",
        "        prev_max_attentions = np.zeros((len(L),), np.int32)\n",
        "        for j in tqdm(range(hp.max_T)):\n",
        "            _gs, _Y, _max_attentions, _alignments = \\\n",
        "                sess.run([g.global_step, g.Y, g.max_attentions, g.alignments],\n",
        "                         {g.L: L,\n",
        "                          g.mels: Y,\n",
        "                          g.prev_max_attentions: prev_max_attentions})\n",
        "            Y[:, j, :] = _Y[:, j, :]\n",
        "            prev_max_attentions = _max_attentions[:, j]\n",
        "\n",
        "        # Get magnitude\n",
        "        Z = sess.run(g.Z, {g.Y: Y})\n",
        "\n",
        "        # Generate wav files\n",
        "        if not os.path.exists(hp.sampledir): os.makedirs(hp.sampledir)\n",
        "        for i, mag in enumerate(Z):\n",
        "            print(\"Working on file\", i+1)\n",
        "            wav = spectrogram2wav(mag)\n",
        "            write(hp.sampledir + \"/{}.wav\".format(i+1), hp.sr, wav)\n",
        "\n",
        "if __name__ == '__main__':\n",
        "    synthesize()\n",
        "    print(\"Done\")\n"
      ],
      "execution_count": 4,
      "outputs": [
        {
          "output_type": "stream",
          "name": "stdout",
          "text": [
            "WARNING:tensorflow:From /content/dc_tts/train.py:44: The name tf.placeholder is deprecated. Please use tf.compat.v1.placeholder instead.\n",
            "\n",
            "WARNING:tensorflow:From /content/dc_tts/train.py:49: The name tf.variable_scope is deprecated. Please use tf.compat.v1.variable_scope instead.\n",
            "\n",
            "WARNING:tensorflow:From /content/dc_tts/modules.py:32: The name tf.get_variable is deprecated. Please use tf.compat.v1.get_variable instead.\n",
            "\n",
            "WARNING:tensorflow:\n",
            "The TensorFlow contrib module will not be included in TensorFlow 2.0.\n",
            "For more information, please see:\n",
            "  * https://github.com/tensorflow/community/blob/master/rfcs/20180907-contrib-sunset.md\n",
            "  * https://github.com/tensorflow/addons\n",
            "  * https://github.com/tensorflow/io (for I/O related ops)\n",
            "If you depend on functionality not listed there, please file an issue.\n",
            "\n",
            "WARNING:tensorflow:From /content/dc_tts/modules.py:134: conv1d (from tensorflow.python.layers.convolutional) is deprecated and will be removed in a future version.\n",
            "Instructions for updating:\n",
            "Use `tf.keras.layers.Conv1D` instead.\n",
            "WARNING:tensorflow:From /tensorflow-1.15.2/python3.7/tensorflow_core/python/layers/convolutional.py:218: Layer.apply (from tensorflow.python.keras.engine.base_layer) is deprecated and will be removed in a future version.\n",
            "Instructions for updating:\n",
            "Please use `layer.__call__` method instead.\n",
            "WARNING:tensorflow:From /content/dc_tts/modules.py:139: dropout (from tensorflow.python.layers.core) is deprecated and will be removed in a future version.\n",
            "Instructions for updating:\n",
            "Use keras.layers.dropout instead.\n",
            "WARNING:tensorflow:From /content/dc_tts/networks.py:140: The name tf.rsqrt is deprecated. Please use tf.math.rsqrt instead.\n",
            "\n",
            "WARNING:tensorflow:From /content/dc_tts/networks.py:140: to_float (from tensorflow.python.ops.math_ops) is deprecated and will be removed in a future version.\n",
            "Instructions for updating:\n",
            "Use `tf.cast` instead.\n",
            "WARNING:tensorflow:From /content/dc_tts/networks.py:147: where (from tensorflow.python.ops.array_ops) is deprecated and will be removed in a future version.\n",
            "Instructions for updating:\n",
            "Use tf.where in 2.0, which has the same broadcast rule as np.where\n",
            "WARNING:tensorflow:From /content/dc_tts/modules.py:239: conv2d_transpose (from tensorflow.python.layers.convolutional) is deprecated and will be removed in a future version.\n",
            "Instructions for updating:\n",
            "Use `tf.keras.layers.Conv2DTranspose` instead.\n",
            "Graph loaded\n",
            "INFO:tensorflow:Restoring parameters from /content/drive/Shareddrives/Programming7/logdir/LJ01-1/model_gs_724k\n",
            "Text2Mel Restored!\n",
            "INFO:tensorflow:Restoring parameters from /content/drive/Shareddrives/Programming7/logdir/LJ01-2/model_gs_718k\n",
            "SSRN Restored!\n"
          ]
        },
        {
          "output_type": "stream",
          "name": "stderr",
          "text": [
            "100%|██████████| 210/210 [14:51<00:00,  4.25s/it]\n"
          ]
        },
        {
          "output_type": "stream",
          "name": "stdout",
          "text": [
            "Working on file 1\n",
            "Working on file 2\n",
            "Working on file 3\n",
            "Working on file 4\n",
            "Working on file 5\n",
            "Working on file 6\n",
            "Working on file 7\n",
            "Working on file 8\n",
            "Working on file 9\n",
            "Working on file 10\n",
            "Working on file 11\n",
            "Working on file 12\n",
            "Working on file 13\n",
            "Working on file 14\n",
            "Working on file 15\n",
            "Working on file 16\n",
            "Working on file 17\n",
            "Working on file 18\n",
            "Working on file 19\n",
            "Working on file 20\n",
            "Working on file 21\n",
            "Working on file 22\n",
            "Working on file 23\n",
            "Done\n"
          ]
        }
      ]
    }
  ]
}